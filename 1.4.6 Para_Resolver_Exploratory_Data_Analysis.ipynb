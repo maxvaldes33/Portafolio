{
  "cells": [
    {
      "cell_type": "markdown",
      "metadata": {
        "id": "e2FylA8Sarwu"
      },
      "source": [
        "# Practical Statistics for Data Scientists (Python)\n",
        "# Exploratory Data Analysis\n",
        "> (c) 2019 Peter C. Bruce, Andrew Bruce, Peter Gedeck"
      ]
    },
    {
      "cell_type": "markdown",
      "metadata": {
        "id": "ybS-1y2darww"
      },
      "source": [
        "Importe los paquetes de Python necesarios."
      ]
    },
    {
      "cell_type": "code",
      "execution_count": null,
      "metadata": {
        "execution": {
          "iopub.execute_input": "2022-04-26T19:41:32.294296Z",
          "iopub.status.busy": "2022-04-26T19:41:32.293278Z",
          "iopub.status.idle": "2022-04-26T19:41:34.654458Z",
          "shell.execute_reply": "2022-04-26T19:41:34.653515Z"
        },
        "id": "MQlaM-wFarww"
      },
      "outputs": [],
      "source": [
        "%matplotlib inline\n",
        "\n",
        "!pip install wquantiles\n",
        "\n",
        "from pathlib import Path\n",
        "\n",
        "import pandas as pd\n",
        "import numpy as np\n",
        "from scipy.stats import trim_mean\n",
        "from statsmodels import robust\n",
        "import wquantiles\n",
        "\n",
        "import seaborn as sns\n",
        "import matplotlib.pylab as plt"
      ]
    },
    {
      "cell_type": "code",
      "execution_count": null,
      "metadata": {
        "execution": {
          "iopub.execute_input": "2022-04-26T19:41:34.658338Z",
          "iopub.status.busy": "2022-04-26T19:41:34.658135Z",
          "iopub.status.idle": "2022-04-26T19:41:35.666930Z",
          "shell.execute_reply": "2022-04-26T19:41:35.666004Z"
        },
        "id": "D6pWj_vjarwx"
      },
      "outputs": [],
      "source": [
        "try:\n",
        "    import common\n",
        "    DATA = common.dataDirectory()\n",
        "except ImportError:\n",
        "    DATA = Path().resolve() / 'data'"
      ]
    },
    {
      "cell_type": "markdown",
      "metadata": {
        "id": "oCLSsd9_arwx"
      },
      "source": [
        "Definir rutas a conjuntos de datos. Si no mantiene sus datos en el mismo directorio que el código, adapte los nombres de las rutas."
      ]
    },
    {
      "cell_type": "code",
      "execution_count": null,
      "metadata": {
        "execution": {
          "iopub.execute_input": "2022-04-26T19:41:35.671310Z",
          "iopub.status.busy": "2022-04-26T19:41:35.671080Z",
          "iopub.status.idle": "2022-04-26T19:41:35.675307Z",
          "shell.execute_reply": "2022-04-26T19:41:35.674572Z"
        },
        "id": "ulYgdB8tarwy"
      },
      "outputs": [],
      "source": [
        "AIRLINE_STATS_CSV = DATA / 'airline_stats.csv'\n",
        "KC_TAX_CSV = DATA / 'kc_tax.csv.gz'\n",
        "LC_LOANS_CSV = DATA / 'lc_loans.csv'\n",
        "AIRPORT_DELAYS_CSV = DATA / 'dfw_airline.csv'\n",
        "SP500_DATA_CSV = DATA / 'sp500_data.csv.gz'\n",
        "SP500_SECTORS_CSV = DATA / 'sp500_sectors.csv'\n",
        "STATE_CSV = DATA / 'state.csv'"
      ]
    },
    {
      "cell_type": "markdown",
      "metadata": {
        "id": "YxR54HEDarwy"
      },
      "source": [
        "# Estimaciones de ubicación\n",
        "## Ejemplo: Estimaciones de ubicación de las tasas de población y homicidios"
      ]
    },
    {
      "cell_type": "code",
      "execution_count": null,
      "metadata": {
        "execution": {
          "iopub.execute_input": "2022-04-26T19:41:35.678420Z",
          "iopub.status.busy": "2022-04-26T19:41:35.678202Z",
          "iopub.status.idle": "2022-04-26T19:41:35.691453Z",
          "shell.execute_reply": "2022-04-26T19:41:35.690552Z"
        },
        "id": "byTktfWtarwy"
      },
      "outputs": [],
      "source": [
        "# Table 1-2\n",
        "state = pd.read_csv(STATE_CSV)\n",
        "print(state.head(8))"
      ]
    },
    {
      "cell_type": "markdown",
      "metadata": {
        "id": "RQTJhYdEarwz"
      },
      "source": [
        "\n",
        "Calcule la media, la media recortada y la mediana de la población. Para `media` y `mediana` podemos usar los métodos _pandas_ del data frame. La media recortada requiere la función `trim_mean` en _scipy.stats_."
      ]
    },
    {
      "cell_type": "code",
      "source": [
        "# escriba su código"
      ],
      "metadata": {
        "id": "NQLej25agouz"
      },
      "execution_count": null,
      "outputs": []
    },
    {
      "cell_type": "markdown",
      "metadata": {
        "id": "JIpmDyzIarw0"
      },
      "source": [
        "La media ponderada está disponible con numpy. Para la mediana ponderada, podemos usar el paquete especializado `wquantiles` (https://pypi.org/project/wquantiles/)."
      ]
    },
    {
      "cell_type": "code",
      "source": [
        "# escriba su código"
      ],
      "metadata": {
        "id": "zB57H-ucg1qY"
      },
      "execution_count": null,
      "outputs": []
    },
    {
      "cell_type": "markdown",
      "metadata": {
        "id": "W4lZGC6Qarw1"
      },
      "source": [
        "# Estimates of Variability"
      ]
    },
    {
      "cell_type": "code",
      "execution_count": null,
      "metadata": {
        "execution": {
          "iopub.execute_input": "2022-04-26T19:41:35.770317Z",
          "iopub.status.busy": "2022-04-26T19:41:35.770083Z",
          "iopub.status.idle": "2022-04-26T19:41:35.776432Z",
          "shell.execute_reply": "2022-04-26T19:41:35.775632Z"
        },
        "id": "4KJYK7pOarw1",
        "outputId": "496d7246-ce10-4050-f78a-8d3a2786fe27"
      },
      "outputs": [
        {
          "name": "stdout",
          "output_type": "stream",
          "text": [
            "         State  Population  Murder.Rate Abbreviation\n",
            "0      Alabama     4779736          5.7           AL\n",
            "1       Alaska      710231          5.6           AK\n",
            "2      Arizona     6392017          4.7           AZ\n",
            "3     Arkansas     2915918          5.6           AR\n",
            "4   California    37253956          4.4           CA\n",
            "5     Colorado     5029196          2.8           CO\n",
            "6  Connecticut     3574097          2.4           CT\n",
            "7     Delaware      897934          5.8           DE\n"
          ]
        }
      ],
      "source": [
        "# Table 1-2\n",
        "print(state.head(8))"
      ]
    },
    {
      "cell_type": "markdown",
      "metadata": {
        "id": "G0yvaYCYarw1"
      },
      "source": [
        "Standard deviation"
      ]
    },
    {
      "cell_type": "code",
      "source": [
        "# calcule"
      ],
      "metadata": {
        "id": "ujUieDRvg8Sm"
      },
      "execution_count": null,
      "outputs": []
    },
    {
      "cell_type": "markdown",
      "metadata": {
        "id": "p3P_Yw7_arw1"
      },
      "source": [
        "El rango intercuartil se calcula como la diferencia del cuantil 75% y 25%."
      ]
    },
    {
      "cell_type": "code",
      "source": [
        "#calcule"
      ],
      "metadata": {
        "id": "4jb6JkNehCoK"
      },
      "execution_count": null,
      "outputs": []
    },
    {
      "cell_type": "markdown",
      "metadata": {
        "id": "8v7iBh45arw2"
      },
      "source": [
        "La desviación absoluta de la mediana de la mediana se puede calcular con un método en _statsmodels_"
      ]
    },
    {
      "cell_type": "code",
      "source": [
        "# su código"
      ],
      "metadata": {
        "id": "_EV9JqgahJpv"
      },
      "execution_count": null,
      "outputs": []
    },
    {
      "cell_type": "markdown",
      "metadata": {
        "id": "JPuTVIPgarw2"
      },
      "source": [
        "## Percentiles and Boxplots\n",
        "_Pandas_ tiene el método `quantile` para data frames"
      ]
    },
    {
      "cell_type": "code",
      "execution_count": null,
      "metadata": {
        "execution": {
          "iopub.execute_input": "2022-04-26T19:41:35.805389Z",
          "iopub.status.busy": "2022-04-26T19:41:35.804986Z",
          "iopub.status.idle": "2022-04-26T19:41:35.813654Z",
          "shell.execute_reply": "2022-04-26T19:41:35.812743Z"
        },
        "id": "cp134POaarw2",
        "outputId": "aa1814b2-5d2e-4a2d-80df-890c4a17ed09"
      },
      "outputs": [
        {
          "name": "stdout",
          "output_type": "stream",
          "text": [
            "0.05    1.600\n",
            "0.25    2.425\n",
            "0.50    4.000\n",
            "0.75    5.550\n",
            "0.95    6.510\n",
            "Name: Murder.Rate, dtype: float64\n"
          ]
        }
      ],
      "source": [
        "print(state['Murder.Rate'].quantile([0.05, 0.25, 0.5, 0.75, 0.95]))"
      ]
    },
    {
      "cell_type": "code",
      "execution_count": null,
      "metadata": {
        "execution": {
          "iopub.execute_input": "2022-04-26T19:41:35.816851Z",
          "iopub.status.busy": "2022-04-26T19:41:35.816645Z",
          "iopub.status.idle": "2022-04-26T19:41:35.825931Z",
          "shell.execute_reply": "2022-04-26T19:41:35.825018Z"
        },
        "id": "QG32nCb9arw2",
        "outputId": "35e90f77-4496-42ba-aed2-ba9b73ee728d"
      },
      "outputs": [
        {
          "name": "stdout",
          "output_type": "stream",
          "text": [
            "             5.0%  25.0%  50.0%  75.0%  95.0%\n",
            "Murder.Rate   1.6  2.425    4.0   5.55   6.51\n"
          ]
        }
      ],
      "source": [
        "# Table 1.4\n",
        "percentages = [0.05, 0.25, 0.5, 0.75, 0.95]\n",
        "df = pd.DataFrame(state['Murder.Rate'].quantile(percentages))\n",
        "df.index = [f'{p * 100}%' for p in percentages]\n",
        "print(df.transpose())"
      ]
    },
    {
      "cell_type": "markdown",
      "metadata": {
        "id": "xC5ojngJarw3"
      },
      "source": [
        "_Pandas_ proporciona una serie de tramas exploratorias básicas; uno de ellos son diagramas de caja"
      ]
    },
    {
      "cell_type": "code",
      "source": [
        "# genere un gráfico de caja"
      ],
      "metadata": {
        "id": "22c-X7YghblI"
      },
      "execution_count": null,
      "outputs": []
    },
    {
      "cell_type": "markdown",
      "metadata": {
        "id": "W7CQo1eWarw3"
      },
      "source": [
        "## Frequency Table and Histograms\n",
        "El método `cut` para datos _pandas_ divide el conjunto de datos en contenedores. Hay una serie de argumentos para el método. El siguiente código crea contenedores de igual tamaño. El método `value_counts` devuelve una tabla de frecuencia."
      ]
    },
    {
      "cell_type": "code",
      "execution_count": null,
      "metadata": {
        "execution": {
          "iopub.execute_input": "2022-04-26T19:41:36.013220Z",
          "iopub.status.busy": "2022-04-26T19:41:36.013014Z",
          "iopub.status.idle": "2022-04-26T19:41:36.024317Z",
          "shell.execute_reply": "2022-04-26T19:41:36.023625Z"
        },
        "id": "RY0hfEDfarw3",
        "outputId": "ab4d7c14-b4f5-4739-a0b0-8861493d2100"
      },
      "outputs": [
        {
          "name": "stdout",
          "output_type": "stream",
          "text": [
            "(526935.67, 4232659.0]      24\n",
            "(4232659.0, 7901692.0]      14\n",
            "(7901692.0, 11570725.0]      6\n",
            "(11570725.0, 15239758.0]     2\n",
            "(15239758.0, 18908791.0]     1\n",
            "(18908791.0, 22577824.0]     1\n",
            "(22577824.0, 26246857.0]     1\n",
            "(33584923.0, 37253956.0]     1\n",
            "(26246857.0, 29915890.0]     0\n",
            "(29915890.0, 33584923.0]     0\n",
            "Name: Population, dtype: int64\n"
          ]
        }
      ],
      "source": [
        "binnedPopulation = pd.cut(state['Population'], 10)\n",
        "print(binnedPopulation.value_counts())"
      ]
    },
    {
      "cell_type": "code",
      "execution_count": null,
      "metadata": {
        "execution": {
          "iopub.execute_input": "2022-04-26T19:41:36.027414Z",
          "iopub.status.busy": "2022-04-26T19:41:36.027172Z",
          "iopub.status.idle": "2022-04-26T19:41:36.043921Z",
          "shell.execute_reply": "2022-04-26T19:41:36.043149Z"
        },
        "id": "gISSF36Qarw3",
        "outputId": "7597a12d-6ccc-4d06-b8b2-c3340ec14766"
      },
      "outputs": [
        {
          "name": "stdout",
          "output_type": "stream",
          "text": [
            "                   BinRange  Count  \\\n",
            "0    (526935.67, 4232659.0]     24   \n",
            "1    (4232659.0, 7901692.0]     14   \n",
            "2   (7901692.0, 11570725.0]      6   \n",
            "3  (11570725.0, 15239758.0]      2   \n",
            "4  (15239758.0, 18908791.0]      1   \n",
            "5  (18908791.0, 22577824.0]      1   \n",
            "6  (22577824.0, 26246857.0]      1   \n",
            "7  (26246857.0, 29915890.0]      0   \n",
            "8  (29915890.0, 33584923.0]      0   \n",
            "9  (33584923.0, 37253956.0]      1   \n",
            "\n",
            "                                              States  \n",
            "0  WY,VT,ND,AK,SD,DE,MT,RI,NH,ME,HI,ID,NE,WV,NM,N...  \n",
            "1          KY,LA,SC,AL,CO,MN,WI,MD,MO,TN,AZ,IN,MA,WA  \n",
            "2                                  VA,NJ,NC,GA,MI,OH  \n",
            "3                                              PA,IL  \n",
            "4                                                 FL  \n",
            "5                                                 NY  \n",
            "6                                                 TX  \n",
            "7                                                     \n",
            "8                                                     \n",
            "9                                                 CA  \n"
          ]
        }
      ],
      "source": [
        "# Table 1.5\n",
        "binnedPopulation.name = 'binnedPopulation'\n",
        "df = pd.concat([state, binnedPopulation], axis=1)\n",
        "df = df.sort_values(by='Population')\n",
        "\n",
        "groups = []\n",
        "for group, subset in df.groupby(by='binnedPopulation'):\n",
        "    groups.append({\n",
        "        'BinRange': group,\n",
        "        'Count': len(subset),\n",
        "        'States': ','.join(subset.Abbreviation)\n",
        "    })\n",
        "print(pd.DataFrame(groups))"
      ]
    },
    {
      "cell_type": "markdown",
      "metadata": {
        "id": "jJt9Qaaaarw3"
      },
      "source": [
        "_Pandas_ también admite histogramas para el análisis exploratorio de datos."
      ]
    },
    {
      "cell_type": "code",
      "source": [
        "#Genere un Histograma"
      ],
      "metadata": {
        "id": "JXRUjfgHhzYo"
      },
      "execution_count": null,
      "outputs": []
    },
    {
      "cell_type": "markdown",
      "metadata": {
        "id": "tvUiWY9Earw4"
      },
      "source": [
        "## Density Estimates\n",
        "La densidad es una alternativa a los histogramas que puede proporcionar más información sobre la distribución de los puntos de datos. Utilice el argumento `bw_method` para controlar la suavidad de la curva de densidad."
      ]
    },
    {
      "cell_type": "code",
      "source": [
        "# Genere un Histograma y la línea de tendencia"
      ],
      "metadata": {
        "id": "xxEKCkM9h9Ec"
      },
      "execution_count": null,
      "outputs": []
    },
    {
      "cell_type": "markdown",
      "metadata": {
        "id": "mk38vVrmarw5"
      },
      "source": [
        "# Exploring Binary and Categorical Data"
      ]
    },
    {
      "cell_type": "code",
      "execution_count": null,
      "metadata": {
        "execution": {
          "iopub.execute_input": "2022-04-26T19:41:36.369880Z",
          "iopub.status.busy": "2022-04-26T19:41:36.369186Z",
          "iopub.status.idle": "2022-04-26T19:41:36.379958Z",
          "shell.execute_reply": "2022-04-26T19:41:36.379056Z"
        },
        "id": "qjC8tpVzarw5",
        "outputId": "f09bfeaa-6d68-413f-a7ea-bbc085b6010a"
      },
      "outputs": [
        {
          "name": "stdout",
          "output_type": "stream",
          "text": [
            "     Carrier        ATC   Weather  Security    Inbound\n",
            "0  23.022989  30.400781  4.025214  0.122937  42.428079\n"
          ]
        }
      ],
      "source": [
        "# Table 1-6\n",
        "dfw = pd.read_csv(AIRPORT_DELAYS_CSV)\n",
        "print(100 * dfw / dfw.values.sum())"
      ]
    },
    {
      "cell_type": "markdown",
      "metadata": {
        "id": "yj-43tBLarw5"
      },
      "source": [
        "_Pandas_ también admite gráficos de barras para mostrar una sola variable categórica."
      ]
    },
    {
      "cell_type": "code",
      "source": [
        "#Genere un gráfico de barras"
      ],
      "metadata": {
        "id": "Rt8nHS-FiI8-"
      },
      "execution_count": null,
      "outputs": []
    },
    {
      "cell_type": "markdown",
      "metadata": {
        "id": "TOuLqVO_arw6"
      },
      "source": [
        "# Correlation\n",
        "Primera lectura de los datasets"
      ]
    },
    {
      "cell_type": "code",
      "execution_count": null,
      "metadata": {
        "execution": {
          "iopub.execute_input": "2022-04-26T19:41:36.501519Z",
          "iopub.status.busy": "2022-04-26T19:41:36.501289Z",
          "iopub.status.idle": "2022-04-26T19:41:37.559617Z",
          "shell.execute_reply": "2022-04-26T19:41:37.558569Z"
        },
        "id": "0TipgiUNarw6"
      },
      "outputs": [],
      "source": [
        "sp500_sym = pd.read_csv(SP500_SECTORS_CSV)\n",
        "sp500_px = pd.read_csv(SP500_DATA_CSV, index_col=0)"
      ]
    },
    {
      "cell_type": "code",
      "execution_count": null,
      "metadata": {
        "execution": {
          "iopub.execute_input": "2022-04-26T19:41:37.563195Z",
          "iopub.status.busy": "2022-04-26T19:41:37.563002Z",
          "iopub.status.idle": "2022-04-26T19:41:37.573188Z",
          "shell.execute_reply": "2022-04-26T19:41:37.572360Z"
        },
        "id": "Z8aBJiQMarw6",
        "outputId": "46c0fac9-7a2d-4f50-a6e0-3a0fb41c6f69"
      },
      "outputs": [
        {
          "name": "stdout",
          "output_type": "stream",
          "text": [
            "                   T       CTL       FTR        VZ      LVLT\n",
            "2012-07-02  0.422496  0.140847  0.070879  0.554180 -0.519998\n",
            "2012-07-03 -0.177448  0.066280  0.070879 -0.025976 -0.049999\n",
            "2012-07-05 -0.160548 -0.132563  0.055128 -0.051956 -0.180000\n",
            "2012-07-06  0.342205  0.132563  0.007875  0.140106 -0.359999\n",
            "2012-07-09  0.136883  0.124279 -0.023626  0.253943  0.180000\n",
            "...              ...       ...       ...       ...       ...\n",
            "2015-06-25  0.049342 -1.600000 -0.040000 -0.187790 -0.330002\n",
            "2015-06-26 -0.256586  0.039999 -0.070000  0.029650 -0.739998\n",
            "2015-06-29 -0.098685 -0.559999 -0.060000 -0.504063 -1.360000\n",
            "2015-06-30 -0.503298 -0.420000 -0.070000 -0.523829  0.199997\n",
            "2015-07-01 -0.019737  0.080000 -0.050000  0.355811  0.139999\n",
            "\n",
            "[754 rows x 5 columns]\n"
          ]
        }
      ],
      "source": [
        "# Table 1-7\n",
        "# Determine telecommunications symbols\n",
        "telecomSymbols = sp500_sym[sp500_sym['sector'] == 'telecommunications_services']['symbol']\n",
        "\n",
        "# Filter data for dates July 2012 through June 2015\n",
        "telecom = sp500_px.loc[sp500_px.index >= '2012-07-01', telecomSymbols]\n",
        "telecom.corr()\n",
        "print(telecom)"
      ]
    },
    {
      "cell_type": "markdown",
      "metadata": {
        "id": "L1WTDvpfarw6"
      },
      "source": [
        "A continuación, nos centramos en los fondos negociados en las principales bolsas (sector == 'etf')."
      ]
    },
    {
      "cell_type": "code",
      "execution_count": null,
      "metadata": {
        "execution": {
          "iopub.execute_input": "2022-04-26T19:41:37.576401Z",
          "iopub.status.busy": "2022-04-26T19:41:37.576201Z",
          "iopub.status.idle": "2022-04-26T19:41:37.588251Z",
          "shell.execute_reply": "2022-04-26T19:41:37.587426Z"
        },
        "id": "iqJtjzPqarw6",
        "outputId": "f85ba9de-f16d-45cf-b956-64e5f208d622"
      },
      "outputs": [
        {
          "name": "stdout",
          "output_type": "stream",
          "text": [
            "                 XLI       QQQ       SPY       DIA       GLD    VXX       USO  \\\n",
            "2012-07-02 -0.376098  0.096313  0.028223 -0.242796  0.419998 -10.40  0.000000   \n",
            "2012-07-03  0.376099  0.481576  0.874936  0.728405  0.490006  -3.52  0.250000   \n",
            "2012-07-05  0.150440  0.096313 -0.103487  0.149420  0.239991   6.56 -0.070000   \n",
            "2012-07-06 -0.141040 -0.491201  0.018819 -0.205449 -0.519989  -8.80 -0.180000   \n",
            "2012-07-09  0.244465 -0.048160 -0.056445 -0.168094  0.429992  -0.48  0.459999   \n",
            "\n",
            "                 IWM       XLE       XLY       XLU       XLB       XTL  \\\n",
            "2012-07-02  0.534641  0.028186  0.095759  0.098311 -0.093713  0.019076   \n",
            "2012-07-03  0.926067  0.995942  0.000000 -0.044686  0.337373  0.000000   \n",
            "2012-07-05 -0.171848 -0.460387  0.306431 -0.151938  0.103086  0.019072   \n",
            "2012-07-06 -0.229128  0.206706  0.153214  0.080437  0.018744 -0.429213   \n",
            "2012-07-09 -0.190939 -0.234892 -0.201098 -0.035751 -0.168687  0.000000   \n",
            "\n",
            "                 XLV       XLP       XLF       XLK  \n",
            "2012-07-02 -0.009529  0.313499  0.018999  0.075668  \n",
            "2012-07-03  0.000000  0.129087  0.104492  0.236462  \n",
            "2012-07-05 -0.142955 -0.073766 -0.142490  0.066211  \n",
            "2012-07-06 -0.095304  0.119865  0.066495 -0.227003  \n",
            "2012-07-09  0.352630 -0.064548  0.018999  0.009457  \n"
          ]
        }
      ],
      "source": [
        "etfs = sp500_px.loc[sp500_px.index > '2012-07-01',\n",
        "                    sp500_sym[sp500_sym['sector'] == 'etf']['symbol']]\n",
        "print(etfs.head())"
      ]
    },
    {
      "cell_type": "markdown",
      "metadata": {
        "id": "kI5IS0rRarw7"
      },
      "source": [
        "Debido a la gran cantidad de columnas en esta tabla, mirar la matriz de correlación es engorroso y es más conveniente trazar la correlación como un mapa de calor. El paquete _seaborn_ proporciona una implementación conveniente para los mapas de calor."
      ]
    },
    {
      "cell_type": "code",
      "source": [
        "#Genere un mapa de calor"
      ],
      "metadata": {
        "id": "s5_p8wOVictF"
      },
      "execution_count": null,
      "outputs": []
    },
    {
      "cell_type": "markdown",
      "metadata": {
        "id": "U_zJvnRoarw7"
      },
      "source": [
        "## Scatterplots\n",
        "Los diagramas de dispersión simples son compatibles con _pandas_. Especificar el marcador como `$\\u25EF$` usa un círculo abierto para cada punto."
      ]
    },
    {
      "cell_type": "code",
      "source": [
        "# Genere un gráfico de Correlación entre ATT vs VERIZON"
      ],
      "metadata": {
        "id": "Uz07rHKBiq53"
      },
      "execution_count": null,
      "outputs": []
    },
    {
      "cell_type": "code",
      "source": [],
      "metadata": {
        "id": "eiW3LrCKjBSH"
      },
      "execution_count": null,
      "outputs": []
    },
    {
      "cell_type": "markdown",
      "metadata": {
        "id": "0wnzKxR6arw-"
      },
      "source": [
        "## Two Categorical Variables\n",
        "Carge el dataset `lc_loans`\n"
      ]
    },
    {
      "cell_type": "code",
      "execution_count": null,
      "metadata": {
        "execution": {
          "iopub.execute_input": "2022-04-26T19:41:43.530303Z",
          "iopub.status.busy": "2022-04-26T19:41:43.529012Z",
          "iopub.status.idle": "2022-04-26T19:41:43.626716Z",
          "shell.execute_reply": "2022-04-26T19:41:43.626048Z"
        },
        "id": "etTNPOAyarw-"
      },
      "outputs": [],
      "source": [
        "lc_loans = pd.read_csv(LC_LOANS_CSV)"
      ]
    },
    {
      "cell_type": "code",
      "execution_count": null,
      "metadata": {
        "execution": {
          "iopub.execute_input": "2022-04-26T19:41:43.630123Z",
          "iopub.status.busy": "2022-04-26T19:41:43.629381Z",
          "iopub.status.idle": "2022-04-26T19:41:43.888611Z",
          "shell.execute_reply": "2022-04-26T19:41:43.887946Z"
        },
        "id": "y9MdTx_2arw-",
        "outputId": "98a50884-16ef-455b-ec23-b1bc00bd3e9d"
      },
      "outputs": [
        {
          "name": "stdout",
          "output_type": "stream",
          "text": [
            "status  Charged Off  Current  Fully Paid  Late     All\n",
            "grade                                                 \n",
            "A              1562    50051       20408   469   72490\n",
            "B              5302    93852       31160  2056  132370\n",
            "C              6023    88928       23147  2777  120875\n",
            "D              5007    53281       13681  2308   74277\n",
            "E              2842    24639        5949  1374   34804\n",
            "F              1526     8444        2328   606   12904\n",
            "G               409     1990         643   199    3241\n",
            "All           22671   321185       97316  9789  450961\n"
          ]
        }
      ],
      "source": [
        "# Table 1-8(1)\n",
        "crosstab = lc_loans.pivot_table(index='grade', columns='status',\n",
        "                                aggfunc=lambda x: len(x), margins=True)\n",
        "print(crosstab)"
      ]
    },
    {
      "cell_type": "code",
      "execution_count": null,
      "metadata": {
        "execution": {
          "iopub.execute_input": "2022-04-26T19:41:43.892014Z",
          "iopub.status.busy": "2022-04-26T19:41:43.891253Z",
          "iopub.status.idle": "2022-04-26T19:41:43.902378Z",
          "shell.execute_reply": "2022-04-26T19:41:43.901751Z"
        },
        "scrolled": true,
        "id": "JSIpHm62arw-",
        "outputId": "9c687a63-297e-4d6f-d49e-c5fd9086c3a3"
      },
      "outputs": [
        {
          "name": "stdout",
          "output_type": "stream",
          "text": [
            "status  Charged Off   Current  Fully Paid      Late       All\n",
            "grade                                                        \n",
            "A          0.021548  0.690454    0.281528  0.006470  0.160746\n",
            "B          0.040054  0.709013    0.235401  0.015532  0.293529\n",
            "C          0.049828  0.735702    0.191495  0.022974  0.268039\n",
            "D          0.067410  0.717328    0.184189  0.031073  0.164708\n",
            "E          0.081657  0.707936    0.170929  0.039478  0.077177\n",
            "F          0.118258  0.654371    0.180409  0.046962  0.028614\n",
            "G          0.126196  0.614008    0.198396  0.061401  0.007187\n"
          ]
        }
      ],
      "source": [
        "# Table 1-8(2)\n",
        "df = crosstab.copy().loc['A':'G',:]\n",
        "df.loc[:,'Charged Off':'Late'] = df.loc[:,'Charged Off':'Late'].div(df['All'], axis=0)\n",
        "df['All'] = df['All'] / sum(df['All'])\n",
        "perc_crosstab = df\n",
        "print(perc_crosstab)"
      ]
    },
    {
      "cell_type": "markdown",
      "metadata": {
        "id": "tbZQMBnharw_"
      },
      "source": [
        "## Categorical and Numeric Data\n",
        "Los diagramas de caja _Pandas_ de una columna se pueden agrupar por una columna diferente."
      ]
    },
    {
      "cell_type": "code",
      "source": [
        "# Genere un diagrama de caja de pct_carrier_delay para todas las líneas aéreas"
      ],
      "metadata": {
        "id": "jmgUWOucjHUJ"
      },
      "execution_count": null,
      "outputs": []
    },
    {
      "cell_type": "markdown",
      "metadata": {
        "id": "5i78sx4larw_"
      },
      "source": [
        "_Pandas_ también admite una variación de diagramas de caja llamada _violinplot_."
      ]
    },
    {
      "cell_type": "code",
      "source": [
        "# Genere un diagrama de violín para los mismos datos"
      ],
      "metadata": {
        "id": "lXZG_SkWjX1o"
      },
      "execution_count": null,
      "outputs": []
    }
  ],
  "metadata": {
    "kernelspec": {
      "display_name": "Python 3 (ipykernel)",
      "language": "python",
      "name": "python3"
    },
    "language_info": {
      "codemirror_mode": {
        "name": "ipython",
        "version": 3
      },
      "file_extension": ".py",
      "mimetype": "text/x-python",
      "name": "python",
      "nbconvert_exporter": "python",
      "pygments_lexer": "ipython3",
      "version": "3.9.10"
    },
    "colab": {
      "provenance": []
    }
  },
  "nbformat": 4,
  "nbformat_minor": 0
}